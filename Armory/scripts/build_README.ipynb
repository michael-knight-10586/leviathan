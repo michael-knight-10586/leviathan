{
 "cells": [
  {
   "cell_type": "code",
   "execution_count": 8,
   "id": "a0c8a324-8692-4e95-a409-0d701a923937",
   "metadata": {},
   "outputs": [],
   "source": [
    "import os\n",
    "os.chdir(r\"C:\\Users\\mikek\\One Drive New\\OneDrive\\Leviathan\\Armory\\scripts\")"
   ]
  },
  {
   "cell_type": "code",
   "execution_count": 9,
   "id": "0b689ea3-87e0-40c0-b9f4-09024b419fd4",
   "metadata": {},
   "outputs": [
    {
     "name": "stdout",
     "output_type": "stream",
     "text": [
      "✅ Armory structure created.\n"
     ]
    }
   ],
   "source": [
    "from pathlib import Path\n",
    "\n",
    "# Path to the README\n",
    "readme_path = Path(r\"C:\\Users\\mikek\\One Drive New\\OneDrive\\Leviathan\\Armory\\crowsnest\\README.md\")\n",
    "\n",
    "# Text block to append or overwrite\n",
    "readme_text = \"\"\"\n",
    "Outputs Summary: Match Points & League Tables\n",
    "\n",
    "This folder contains derived match-level and season-level team summaries used in the Leviathan project.\n",
    "\n",
    "Final Outputs:\n",
    "\n",
    "- Plankton_match_points.csv:\n",
    "  Adds HomePoints and AwayPoints (1 = win, 0.5 = draw, 0 = loss) to each match.\n",
    "  \n",
    "- league_tables_by_season.csv:\n",
    "  League table for each season, with total points, games played, and average points per match.\n",
    "\n",
    "- team_points_summary_all_seasons.csv:\n",
    "  Summary of team performance across all seasons. Includes total points, average points per season, and number of seasons played.\n",
    "\n",
    "These outputs form the core data for further modeling in the Armory stage of the Leviathan pipeline.\n",
    "\"\"\"\n",
    "\n",
    "# Overwrite the README (or change to .write_text(..., mode='a') to append)\n",
    "readme_path.write_text(readme_text.strip(), encoding=\"utf-8\")\n",
    "\n",
    "print(f\"✅ README updated at: {readme_path}\")"
   ]
  },
  {
   "cell_type": "code",
   "execution_count": null,
   "id": "b03cd46d-4b3d-4314-8f9a-2c593057c719",
   "metadata": {},
   "outputs": [],
   "source": []
  }
 ],
 "metadata": {
  "kernelspec": {
   "display_name": "Python 3 (ipykernel)",
   "language": "python",
   "name": "python3"
  },
  "language_info": {
   "codemirror_mode": {
    "name": "ipython",
    "version": 3
   },
   "file_extension": ".py",
   "mimetype": "text/x-python",
   "name": "python",
   "nbconvert_exporter": "python",
   "pygments_lexer": "ipython3",
   "version": "3.12.9"
  }
 },
 "nbformat": 4,
 "nbformat_minor": 5
}
