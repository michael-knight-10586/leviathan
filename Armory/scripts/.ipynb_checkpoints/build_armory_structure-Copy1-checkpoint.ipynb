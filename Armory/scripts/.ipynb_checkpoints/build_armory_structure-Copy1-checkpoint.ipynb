{
 "cells": [
  {
   "cell_type": "code",
   "execution_count": 1,
   "id": "a0c8a324-8692-4e95-a409-0d701a923937",
   "metadata": {},
   "outputs": [],
   "source": [
    "import os\n",
    "os.chdir(r\"C:\\Users\\mikek\\One Drive New\\OneDrive\\Leviathan\\Armory\\scripts\")"
   ]
  },
  {
   "cell_type": "code",
   "execution_count": 6,
   "id": "0b689ea3-87e0-40c0-b9f4-09024b419fd4",
   "metadata": {},
   "outputs": [
    {
     "name": "stdout",
     "output_type": "stream",
     "text": [
      "🏁 League Table – 2023/24 Season:\n",
      "\n",
      " Season  Position           Team  TotalPoints  GamesPlayed  AvgPoints  points_home  points_away  games_home  games_away\n",
      "   2023         1       Man City         30.5           38      0.803         17.5         13.0          19          19\n",
      "   2023         2        Arsenal         29.0           38      0.763         15.5         13.5          19          19\n",
      "   2023         3     Man United         26.0           38      0.684         16.5          9.5          19          19\n",
      "   2023         4      Newcastle         26.0           38      0.684         14.0         12.0          19          19\n",
      "   2023         5      Liverpool         24.0           38      0.632         15.5          8.5          19          19\n",
      "   2023         6      Brentford         22.0           38      0.579         13.5          8.5          19          19\n",
      "   2023         7       Brighton         22.0           38      0.579         12.0         10.0          19          19\n",
      "   2023         8    Aston Villa         21.5           38      0.566         13.0          8.5          19          19\n",
      "   2023         9      Tottenham         21.0           38      0.553         12.5          8.5          19          19\n",
      "   2023        10         Fulham         18.5           38      0.487         10.5          8.0          19          19\n",
      "   2023        11 Crystal Palace         17.0           38      0.447         10.5          6.5          19          19\n",
      "   2023        12        Chelsea         16.5           38      0.434          9.5          7.0          19          19\n",
      "   2023        13         Wolves         15.0           38      0.395         10.5          4.5          19          19\n",
      "   2023        14  Nott'm Forest         14.5           38      0.382         11.0          3.5          19          19\n",
      "   2023        15       West Ham         14.5           38      0.382         10.0          4.5          19          19\n",
      "   2023        16    Bournemouth         14.0           38      0.368          8.0          6.0          19          19\n",
      "   2023        17        Everton         14.0           38      0.368          7.5          6.5          19          19\n",
      "   2023        18      Leicester         12.5           38      0.329          7.0          5.5          19          19\n",
      "   2023        19          Leeds         12.0           38      0.316          8.5          3.5          19          19\n",
      "   2023        20    Southampton          9.5           38      0.250          4.5          5.0          19          19\n"
     ]
    }
   ],
   "source": [
    "\n",
    "# Set up paths\n",
    "data_path = Path(r\"C:\\Users\\mikek\\One Drive New\\OneDrive\\Leviathan\\Armory\\crowsnest\")\n",
    "input_file = data_path / \"Plankton_match_points.csv\"\n",
    "output_file = data_path / \"league_tables_by_season.csv\"\n",
    "\n",
    "# Load match points data\n",
    "df = pd.read_csv(input_file)\n",
    "df['Date'] = pd.to_datetime(df['Date'], errors='coerce')\n",
    "df.dropna(subset=['Date'], inplace=True)\n",
    "\n",
    "season_tables = []\n",
    "\n",
    "# Loop through each season\n",
    "for season, group in df.groupby(\"Season\"):\n",
    "    home_stats = group.groupby(\"HomeTeam\").agg(\n",
    "        points_home=('HomePoints', 'sum'),\n",
    "        games_home=('HomePoints', 'count')\n",
    "    ).reset_index().rename(columns={\"HomeTeam\": \"Team\"})\n",
    "\n",
    "    away_stats = group.groupby(\"AwayTeam\").agg(\n",
    "        points_away=('AwayPoints', 'sum'),\n",
    "        games_away=('AwayPoints', 'count')\n",
    "    ).reset_index().rename(columns={\"AwayTeam\": \"Team\"})\n",
    "\n",
    "    merged = pd.merge(home_stats, away_stats, on=\"Team\", how=\"outer\").fillna(0)\n",
    "\n",
    "    merged[\"TotalPoints\"] = merged[\"points_home\"] + merged[\"points_away\"]\n",
    "    merged[\"GamesPlayed\"] = merged[\"games_home\"] + merged[\"games_away\"]\n",
    "    merged[\"AvgPoints\"] = (merged[\"TotalPoints\"] / merged[\"GamesPlayed\"]).round(3)\n",
    "    merged[\"Season\"] = season\n",
    "\n",
    "    merged = merged.sort_values(by=[\"TotalPoints\", \"GamesPlayed\"], ascending=[False, True])\n",
    "    merged[\"Position\"] = range(1, len(merged) + 1)\n",
    "\n",
    "    season_tables.append(merged)\n",
    "\n",
    "# Combine all seasons\n",
    "final_table = pd.concat(season_tables, ignore_index=True)\n",
    "\n",
    "# Reorder columns\n",
    "final_table = final_table[[\n",
    "    \"Season\", \"Position\", \"Team\", \"TotalPoints\", \"GamesPlayed\", \"AvgPoints\",\n",
    "    \"points_home\", \"points_away\", \"games_home\", \"games_away\"\n",
    "]]\n",
    "\n",
    "# Save output\n",
    "final_table.to_csv(output_file, index=False)\n",
    "\n",
    "# Show 2023/24 season for validation\n",
    "latest_season = final_table[final_table[\"Season\"] == 2023]\n",
    "print(\"🏁 League Table – 2023/24 Season:\\n\")\n",
    "print(latest_season.sort_values(\"Position\").to_string(index=False))\n",
    "\n"
   ]
  },
  {
   "cell_type": "code",
   "execution_count": 10,
   "id": "b03cd46d-4b3d-4314-8f9a-2c593057c719",
   "metadata": {},
   "outputs": [
    {
     "name": "stdout",
     "output_type": "stream",
     "text": [
      "📊 Team Summary Across All Seasons:\n",
      "      Team  SeasonsPlayed  AvgPointsPerSeason  TotalPointsAllSeasons\n",
      "Man United             31               27.37                  848.5\n",
      "   Arsenal             31               25.81                  800.0\n",
      " Liverpool             31               25.21                  781.5\n",
      "   Chelsea             31               25.10                  778.0\n",
      "  Man City             26               23.81                  619.0\n",
      " Tottenham             31               21.45                  665.0\n",
      "     Leeds             14               19.93                  279.0\n",
      " Newcastle             29               19.34                  561.0\n",
      " Blackburn             17               19.32                  328.5\n",
      "   Everton             31               19.05                  590.5\n"
     ]
    }
   ],
   "source": [
    "import pandas as pd\n",
    "from pathlib import Path\n",
    "\n",
    "\n",
    "# Set paths\n",
    "data_path = Path(r\"C:\\Users\\mikek\\One Drive New\\OneDrive\\Leviathan\\Armory\\crowsnest\")\n",
    "input_file = data_path / \"league_tables_by_season.csv\"\n",
    "output_file = data_path / \"team_points_summary_all_seasons.csv\"\n",
    "\n",
    "# Load data\n",
    "df = pd.read_csv(input_file)\n",
    "\n",
    "# Group by team\n",
    "summary = df.groupby(\"Team\").agg(\n",
    "    SeasonsPlayed=(\"Season\", \"nunique\"),\n",
    "    TotalPointsAllSeasons=(\"TotalPoints\", \"sum\")\n",
    ").reset_index()\n",
    "\n",
    "# Calculate average points per season\n",
    "summary[\"AvgPointsPerSeason\"] = (summary[\"TotalPointsAllSeasons\"] / summary[\"SeasonsPlayed\"]).round(2)\n",
    "\n",
    "# Rearrange columns\n",
    "summary = summary[[\"Team\", \"SeasonsPlayed\", \"AvgPointsPerSeason\", \"TotalPointsAllSeasons\"]]\n",
    "\n",
    "# Sort by AvgPointsPerSeason\n",
    "summary = summary.sort_values(\"AvgPointsPerSeason\", ascending=False)\n",
    "\n",
    "# Save to CSV\n",
    "summary.to_csv(output_file, index=False)\n",
    "\n",
    "# Preview top 10\n",
    "print(\"📊 Team Summary Across All Seasons:\")\n",
    "print(summary.head(10).to_string(index=False))"
   ]
  },
  {
   "cell_type": "code",
   "execution_count": null,
   "id": "652e1ff2-c059-4428-b53b-eb9ebcb3e4a9",
   "metadata": {},
   "outputs": [],
   "source": []
  }
 ],
 "metadata": {
  "kernelspec": {
   "display_name": "Python 3 (ipykernel)",
   "language": "python",
   "name": "python3"
  },
  "language_info": {
   "codemirror_mode": {
    "name": "ipython",
    "version": 3
   },
   "file_extension": ".py",
   "mimetype": "text/x-python",
   "name": "python",
   "nbconvert_exporter": "python",
   "pygments_lexer": "ipython3",
   "version": "3.12.9"
  }
 },
 "nbformat": 4,
 "nbformat_minor": 5
}
