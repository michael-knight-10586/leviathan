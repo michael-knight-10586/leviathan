{
 "cells": [
  {
   "cell_type": "code",
   "execution_count": 8,
   "id": "a0c8a324-8692-4e95-a409-0d701a923937",
   "metadata": {},
   "outputs": [],
   "source": [
    "import os\n",
    "os.chdir(r\"C:\\Users\\mikek\\One Drive New\\OneDrive\\Leviathan\\Armory\\scripts\")"
   ]
  },
  {
   "cell_type": "code",
   "execution_count": 9,
   "id": "0b689ea3-87e0-40c0-b9f4-09024b419fd4",
   "metadata": {},
   "outputs": [
    {
     "name": "stdout",
     "output_type": "stream",
     "text": [
      "✅ Armory structure created.\n"
     ]
    }
   ],
   "source": [
    "from pathlib import Path\n",
    "\n",
    "# Define the verified working path to Leviathan\n",
    "base_path = Path(r\"C:\\Users\\mikek\\One Drive New\\OneDrive\\Leviathan\\Armory\")\n",
    "\n",
    "# Define subfolders to create\n",
    "subfolders = [\n",
    "    \"CrowsNest\",\n",
    "    \"Whaleboat\",\n",
    "    \"Tackle\",\n",
    "    \"Line\",\n",
    "    \"Harpoon\"\n",
    "]\n",
    "\n",
    "# Create each subfolder\n",
    "for sub in subfolders:\n",
    "    (base_path / sub).mkdir(parents=True, exist_ok=True)\n",
    "\n",
    "# Create a README.md file inside Armory\n",
    "readme_text = \"\"\"# Leviathan Armory: Feature Engineering Layers\n",
    "\n",
    "This folder contains transformed data used as input features for predictive modeling.\n",
    "\n",
    "- CrowsNest: League-wide scoring systems and observational signals\n",
    "- Whaleboat: League table data, cumulative points\n",
    "- Tackle: Context-aware adjustments (e.g., home advantage)\n",
    "- Line: Basic team superiority model\n",
    "- Harpoon: Advanced superiority and rating-based signals\n",
    "\"\"\"\n",
    "\n",
    "with open(base_path / \"README.md\", \"w\", encoding=\"utf-8\") as f:\n",
    "    f.write(readme_text)\n",
    "\n",
    "print(\"✅ Armory structure created.\")\n"
   ]
  },
  {
   "cell_type": "code",
   "execution_count": null,
   "id": "b03cd46d-4b3d-4314-8f9a-2c593057c719",
   "metadata": {},
   "outputs": [],
   "source": []
  }
 ],
 "metadata": {
  "kernelspec": {
   "display_name": "Python 3 (ipykernel)",
   "language": "python",
   "name": "python3"
  },
  "language_info": {
   "codemirror_mode": {
    "name": "ipython",
    "version": 3
   },
   "file_extension": ".py",
   "mimetype": "text/x-python",
   "name": "python",
   "nbconvert_exporter": "python",
   "pygments_lexer": "ipython3",
   "version": "3.12.9"
  }
 },
 "nbformat": 4,
 "nbformat_minor": 5
}
