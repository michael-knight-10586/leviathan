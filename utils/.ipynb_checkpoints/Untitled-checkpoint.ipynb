{
 "cells": [
  {
   "cell_type": "code",
   "execution_count": 2,
   "id": "cc295ff5-af18-4bbe-b5a7-44ddc84f0770",
   "metadata": {},
   "outputs": [],
   "source": [
    "# Leviathan/utils/data_loader.py\n",
    "\n",
    "import os\n",
    "import pandas as pd\n",
    "\n",
    "def load_data(filename, subpath):\n",
    "    \"\"\"\n",
    "    Loads a CSV file based on environment:\n",
    "    - Local: reads from OneDrive folder\n",
    "    - Colab: fetches from GitHub raw URL\n",
    "\n",
    "    Parameters:\n",
    "        filename (str): Name of the CSV file (e.g., \"Plankton_match_points.csv\")\n",
    "        subpath (str): Folder path within Leviathan (e.g., \"Ocean/England_1/\")\n",
    "\n",
    "    Returns:\n",
    "        pd.DataFrame\n",
    "    \"\"\"\n",
    "    try:\n",
    "        import google.colab\n",
    "        IS_COLAB = True\n",
    "    except ImportError:\n",
    "        IS_COLAB = False\n",
    "\n",
    "    if IS_COLAB:\n",
    "        # GitHub raw file path\n",
    "        github_user = \"michael-knight-10586\"\n",
    "        base_url = f\"https://raw.githubusercontent.com/{github_user}/Leviathan/main/\"\n",
    "        full_url = base_url + subpath + filename\n",
    "        print(f\"📡 Loading from GitHub: {full_url}\")\n",
    "        return pd.read_csv(full_url)\n",
    "    else:\n",
    "        # Local OneDrive path\n",
    "        base_dir = \"C:/Users/mikek/One Drive New/OneDrive/Leviathan\"\n",
    "        full_path = os.path.join(base_dir, subpath, filename)\n",
    "        print(f\"💾 Loading from local path: {full_path}\")\n",
    "        return pd.read_csv(full_path)\n"
   ]
  },
  {
   "cell_type": "code",
   "execution_count": null,
   "id": "414087ac-3784-44fd-b577-ce936752f67c",
   "metadata": {},
   "outputs": [],
   "source": []
  }
 ],
 "metadata": {
  "kernelspec": {
   "display_name": "Python 3 (ipykernel)",
   "language": "python",
   "name": "python3"
  },
  "language_info": {
   "codemirror_mode": {
    "name": "ipython",
    "version": 3
   },
   "file_extension": ".py",
   "mimetype": "text/x-python",
   "name": "python",
   "nbconvert_exporter": "python",
   "pygments_lexer": "ipython3",
   "version": "3.12.9"
  }
 },
 "nbformat": 4,
 "nbformat_minor": 5
}
